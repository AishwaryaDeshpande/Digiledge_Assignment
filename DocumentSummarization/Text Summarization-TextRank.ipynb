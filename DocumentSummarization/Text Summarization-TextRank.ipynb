{
 "cells": [
  {
   "cell_type": "markdown",
   "metadata": {},
   "source": [
    "# Text Summarization \n",
    "\n",
    "Text Summarization is method of extracting summary from the text file. These are the following steps \n",
    "used in text summarization - \n",
    "    1. Importing the required packages into python\n",
    "    2. Reading the pdf or text file with the help of PyPDF2 package\n",
    "    3. Tokenizing the document with the help of nltk packages i.e splitting the documents into sentences, this will later      \n",
    "       help us to store the data in structured format using pandas\n",
    "    4. Text cleaning - this step includes converting the sentences in the data frame format for easier processing of the \n",
    "       data.Text cleaning includes removing punctuations, numbers,text chracters, stop words (common words), words whose \n",
    "       length is less than 3 etc. \n",
    "    5. Generating term document frequency matrix data with the help of nltk package\n",
    "    6. TextRank Algorithm using networx package\n",
    "    7. Finding the important sentences based on rank and creating summary\n",
    "    8. Exporting the summary \n"
   ]
  },
  {
   "cell_type": "markdown",
   "metadata": {},
   "source": [
    "### 1. Importing the required libraries for text summarization"
   ]
  },
  {
   "cell_type": "code",
   "execution_count": 255,
   "metadata": {},
   "outputs": [],
   "source": [
    "import numpy as np\n",
    "import PyPDF2\n",
    "import docx2txt\n",
    "import sys\n",
    "import networkx as nx\n",
    "import pandas as pd\n",
    "import matplotlib.pyplot as plt\n",
    "%matplotlib inline\n",
    "\n",
    "from nltk.tokenize.punkt import PunktSentenceTokenizer\n",
    "from sklearn.feature_extraction.text import TfidfTransformer, CountVectorizer"
   ]
  },
  {
   "cell_type": "markdown",
   "metadata": {},
   "source": [
    "### 2. Function to read the document from user"
   ]
  },
  {
   "cell_type": "code",
   "execution_count": 256,
   "metadata": {},
   "outputs": [],
   "source": [
    "def readDoc():\n",
    "    name = input('Please input a file name: ') \n",
    "    print('You have asked for the document {}'.format(name))\n",
    "\n",
    "    # now read the type of document\n",
    "    if name.lower().endswith('.pdf'):\n",
    "        choice = 1\n",
    "    else:\n",
    "        choice = 2\n",
    "    print(choice)\n",
    "\n",
    "    # Case 1: .pdf file\n",
    "    if choice == 1:\n",
    "        pdfFileObj = open(name, 'rb')\n",
    "        pdfReader = PyPDF2.PdfFileReader(pdfFileObj)\n",
    "        number_of_pages = pdfReader.getNumPages()\n",
    "        document =''\n",
    "        for i in range(number_of_pages):\n",
    "            pageObj = pdfReader.getPage(i)\n",
    "            document = document + pageObj.extractText()\n",
    "        pdfFileObj.close()\n",
    "    \n",
    "    # Case 2: none of the format\n",
    "    elif choice == 2:\n",
    "        print('Failed to load a valid file')\n",
    "        print('Returning an empty string')\n",
    "        document = ''\n",
    "    \n",
    "    print(type(document))\n",
    "    return document"
   ]
  },
  {
   "cell_type": "code",
   "execution_count": 503,
   "metadata": {},
   "outputs": [
    {
     "name": "stdout",
     "output_type": "stream",
     "text": [
      "Please input a file name: RFP_One.pdf\n",
      "You have asked for the document RFP_One.pdf\n",
      "1\n",
      "<class 'str'>\n"
     ]
    }
   ],
   "source": [
    "document = readDoc()"
   ]
  },
  {
   "cell_type": "markdown",
   "metadata": {},
   "source": [
    "###    3. Tokenizing the document into sentences"
   ]
  },
  {
   "cell_type": "code",
   "execution_count": 504,
   "metadata": {},
   "outputs": [],
   "source": [
    "def tokenize(document): \n",
    "    doc_tokenizer = PunktSentenceTokenizer() \n",
    "    # sentences is a list containing each sentence of the document as an element\n",
    "    sentences_list = doc_tokenizer.tokenize(document)\n",
    "    return sentences_list"
   ]
  },
  {
   "cell_type": "code",
   "execution_count": 505,
   "metadata": {},
   "outputs": [
    {
     "name": "stdout",
     "output_type": "stream",
     "text": [
      "The size of the list in Bytes is: 3984\n",
      "The size of the item 0 in Bytes is: 293\n"
     ]
    }
   ],
   "source": [
    "sentences_list = tokenize(document)\n",
    "\n",
    "# let us print the size of memory used by the list sentences\n",
    "print('The size of the list in Bytes is: {}'.format(sys.getsizeof(sentences_list)))\n",
    "\n",
    "# the size of one of the element of the list\n",
    "print('The size of the item 0 in Bytes is: {}'.format(sys.getsizeof(sentences_list[0])))"
   ]
  },
  {
   "cell_type": "code",
   "execution_count": 506,
   "metadata": {},
   "outputs": [
    {
     "name": "stdout",
     "output_type": "stream",
     "text": [
      "The size of the list \"sentences\" is: 431\n"
     ]
    }
   ],
   "source": [
    "print('The size of the list \"sentences\" is: {}'.format(len(sentences_list)))"
   ]
  },
  {
   "cell_type": "markdown",
   "metadata": {},
   "source": [
    "###    4. Text cleaning "
   ]
  },
  {
   "cell_type": "code",
   "execution_count": 507,
   "metadata": {},
   "outputs": [],
   "source": [
    "df = pd.DataFrame(sentences_list,columns = ['Sentence'])"
   ]
  },
  {
   "cell_type": "markdown",
   "metadata": {},
   "source": [
    "#### Removing the punctuations, numbers and special characters and creating tidy sentence columns "
   ]
  },
  {
   "cell_type": "code",
   "execution_count": 509,
   "metadata": {},
   "outputs": [],
   "source": [
    "df['Sentence']  = df['Sentence'].str.replace(\"˙E ˙C˙¢˙Ł˝y\", \" \") \n",
    "df['Sentence']  = df['Sentence'].str.replace(\"E C y A\", \" \") \n",
    "df['Sentence']  = df['Sentence'].str.replace(r\" ?\\([^)]+\\)\", \" \") \n",
    "df['Sentence']  = df['Sentence'].str.replace(\"[˝,_]\", \" \") \n",
    "df['Sentence']  = df['Sentence'].str.replace(\"[^a-zA-Z#]\", \" \") "
   ]
  },
  {
   "cell_type": "markdown",
   "metadata": {},
   "source": [
    "#### Removing uneccesary white spaces and new line characters from the sentences"
   ]
  },
  {
   "cell_type": "code",
   "execution_count": 510,
   "metadata": {},
   "outputs": [],
   "source": [
    "df['Sentence'] = df['Sentence'].apply(lambda x: x.replace('\\n',' '))\n",
    "df.Sentence = df.Sentence.str.replace('\\s+', ' ', regex=True)"
   ]
  },
  {
   "cell_type": "markdown",
   "metadata": {},
   "source": [
    "#### Removing short words whose length is less that 3"
   ]
  },
  {
   "cell_type": "code",
   "execution_count": 511,
   "metadata": {},
   "outputs": [],
   "source": [
    "df['tidy_sentence'] = df['Sentence'].apply(lambda x : ' '.join([w for w in x.split() if len(w)>3]))"
   ]
  },
  {
   "cell_type": "markdown",
   "metadata": {},
   "source": [
    "#### Removing stop words( common words like it, above etc.) from the tide_sentence column "
   ]
  },
  {
   "cell_type": "code",
   "execution_count": 512,
   "metadata": {},
   "outputs": [
    {
     "name": "stderr",
     "output_type": "stream",
     "text": [
      "[nltk_data] Downloading package stopwords to\n",
      "[nltk_data]     C:\\Users\\Sanjay\\AppData\\Roaming\\nltk_data...\n",
      "[nltk_data]   Package stopwords is already up-to-date!\n"
     ]
    }
   ],
   "source": [
    "import nltk\n",
    "nltk.download('stopwords')\n",
    "from nltk.corpus import stopwords \n",
    "from nltk.tokenize import word_tokenize \n",
    "  \n",
    "stop = stopwords.words('english')\n",
    "\n",
    "tokenized_sentence = df['tidy_sentence'].apply(lambda x : x.split())\n",
    "tokenized_sentence = tokenized_sentence.apply(lambda x: [item for item in x if item not in stop])"
   ]
  },
  {
   "cell_type": "code",
   "execution_count": 513,
   "metadata": {},
   "outputs": [],
   "source": [
    "tokenized_sentence = tokenized_sentence.apply(lambda x:' '.join(x))\n",
    "df['tidy_sentence'] = tokenized_sentence"
   ]
  },
  {
   "cell_type": "markdown",
   "metadata": {},
   "source": [
    "#### Removing sentences with words less than ten "
   ]
  },
  {
   "cell_type": "code",
   "execution_count": 514,
   "metadata": {},
   "outputs": [],
   "source": [
    "df ['No_of_Words'] = df['Sentence'].str.split(\" \").apply(len)\n",
    "df.drop(df[df ['No_of_Words'] < 10].index,inplace = True)"
   ]
  },
  {
   "cell_type": "markdown",
   "metadata": {},
   "source": [
    "### 5. Understanding the distribution of the sequences"
   ]
  },
  {
   "cell_type": "code",
   "execution_count": 515,
   "metadata": {},
   "outputs": [
    {
     "data": {
      "image/png": "[encoded data removed]",
      "text/plain": [
       "<Figure size 432x288 with 2 Axes>"
      ]
     },
     "metadata": {
      "needs_background": "light"
     },
     "output_type": "display_data"
    }
   ],
   "source": [
    "text_word_count = []\n",
    "summary_word_count = []\n",
    "\n",
    "# populate the lists with sentence lengths\n",
    "for i in df['Sentence']:\n",
    "      text_word_count.append(len(i.split()))\n",
    "\n",
    "for i in df['tidy_sentence']:\n",
    "      summary_word_count.append(len(i.split()))\n",
    "\n",
    "length_df = pd.DataFrame({'text':text_word_count, 'summary':summary_word_count})\n",
    "length_df.hist(bins = 30)\n",
    "plt.show()"
   ]
  },
  {
   "cell_type": "code",
   "execution_count": 516,
   "metadata": {},
   "outputs": [],
   "source": [
    "min_num_words = 20\n",
    "max_num_words = 100"
   ]
  },
  {
   "cell_type": "markdown",
   "metadata": {},
   "source": [
    "### 5. Generating term document matrix of the data"
   ]
  },
  {
   "cell_type": "code",
   "execution_count": 517,
   "metadata": {},
   "outputs": [],
   "source": [
    "cv = CountVectorizer()\n",
    "cv_matrix = cv.fit_transform(df['tidy_sentence'])"
   ]
  },
  {
   "cell_type": "code",
   "execution_count": 518,
   "metadata": {},
   "outputs": [
    {
     "name": "stdout",
     "output_type": "stream",
     "text": [
      "The data type of bow matrix <class 'scipy.sparse.csr.csr_matrix'>\n",
      "Shape of the matrix <bound method spmatrix.get_shape of <292x1480 sparse matrix of type '<class 'numpy.int64'>'\n",
      "\twith 4089 stored elements in Compressed Sparse Row format>>\n",
      "Size of the matrix is: 56\n",
      "['abide', 'ability', 'above', 'absolute', 'accept', 'acceptan', 'acceptance', 'accepted', 'access', 'accessed', 'accompanying', 'accordance', 'account', 'accuracy', 'acknowledged', 'acknowledges', 'acoity', 'acquisition', 'across', 'action', 'activities', 'activity', 'acts', 'actual', 'addenda', 'addition', 'additional', 'additionally', 'address', 'addressed', 'addresses', 'addressing', 'adhering', 'adjudication', 'adjuster', 'administrative', 'advancement', 'adverse', 'advice', 'advised', 'advisors', 'advisory', 'affect', 'affecting', 'affiliates', 'affixed', 'aforesaid', 'agencies', 'agency', 'agent', 'agents', 'aggregate', 'agree', 'agreed', 'agreement', 'alleged', 'allegedly', 'allocated', 'along', 'also', 'alteration', 'alterations', 'always', 'amend', 'amended', 'amount', 'anguish', 'anmol', 'annexure', 'annexures', 'annual', 'appendices', 'appliances', 'applicable', 'applican', 'applicant', 'applicants', 'application', 'applications', 'apply', 'applying', 'appoint', 'appointed', 'appointing', 'appostille', 'appraisers', 'appropriation', 'approval', 'approx', 'arbitration', 'arbitrator', 'arise', 'arises', 'arising', 'around', 'ashish', 'asked', 'aspect', 'asset', 'assets', 'assign', 'assigning', 'assistance', 'assisting', 'associated', 'assumed', 'ations', 'atms', 'attachments', 'attack', 'attendance', 'attorney', 'authenticity', 'author', 'authorised', 'authorities', 'authority', 'authoriz', 'authorization', 'authorize', 'authorized', 'automatic', 'autonomous', 'available', 'avert', 'award', 'awarded', 'ayment', 'back', 'bank', 'bankers', 'banking', 'banks', 'barred', 'based', 'basic', 'basis', 'bear', 'behalf', 'behaviour', 'belonging', 'best', 'betterment', 'bhai', 'bidder', 'bidders', 'bidding', 'bids', 'bigge', 'bigger', 'bilateral', 'bill', 'binding', 'blacklisted', 'blank', 'board', 'bodily', 'body', 'bound', 'branch', 'branches', 'breach', 'breakdown', 'breaking', 'bribery', 'broker', 'brokerage', 'brokers', 'brought', 'buildi', 'building', 'burglary', 'buses', 'business', 'call', 'canada', 'cancellable', 'cancellation', 'cannot', 'capture', 'care', 'carried', 'carries', 'carry', 'carrying', 'carve', 'case', 'cash', 'caused', 'cell', 'center', 'central', 'centre', 'certificate', 'certificates', 'certify', 'certifying', 'cessing', 'change', 'changes', 'character', 'charge', 'charges', 'charter', 'chests', 'chief', 'choose', 'circumstances', 'civil', 'claim', 'claims', 'clar', 'clarifica', 'clarification', 'clarifications', 'clause', 'clauses', 'closing', 'collected', 'collection', 'collectors', 'columns', 'comment', 'comments', 'commercial', 'commit', 'commitment', 'commitments', 'committed', 'common', 'communicated', 'communication', 'communications', 'companies', 'company', 'competing', 'competition', 'competitive', 'complete', 'completeness', 'compliance', 'comply', 'compound', 'computer', 'computers', 'concluded', 'condition', 'conditions', 'conduct', 'conducted', 'conducting', 'conduit', 'conf', 'conferences', 'conferred', 'confidential', 'confidentiality', 'confir', 'confirm', 'confirmation', 'confirmed', 'conforming', 'conformities', 'conformity', 'conjunction', 'connected', 'connection', 'consent', 'consequent', 'consideration', 'considered', 'constitute', 'constitutes', 'construed', 'consultant', 'consultants', 'consultation', 'contact', 'contained', 'containing', 'content', 'contents', 'contingencies', 'continue', 'contract', 'contracts', 'contractual', 'contradict', 'contrary', 'contributory', 'control', 'convention', 'conveyance', 'copies', 'copy', 'copying', 'copyright', 'corpor', 'corporate', 'correct', 'corrections', 'corresponde', 'correspondence', 'correspondent', 'correspondents', 'corrigendum', 'corruption', 'cost', 'costs', 'could', 'counselling', 'counterfeit', 'countries', 'court', 'courts', 'cover', 'coverage', 'covered', 'covering', 'covers', 'credit', 'crime', 'criminal', 'crisis', 'criteri', 'criteria', 'crore', 'cryptocurrency', 'ctly', 'cument', 'currency', 'custody', 'customer', 'customers', 'cyber', 'cycle', 'dacoity', 'damage', 'damages', 'data', 'date', 'dated', 'daughter', 'days', 'dealing', 'dear', 'debris', 'debt', 'decided', 'decisions', 'declaration', 'deductible', 'deductibles', 'deeds', 'deemed', 'deep', 'defamation', 'defective', 'defence', 'defend', 'defense', 'defined', 'definition', 'delegati', 'deleted', 'delhi', 'delisted', 'deliver', 'delivered', 'delivery', 'demonstrate', 'demonstrating', 'demonstrations', 'denied', 'deny', 'department', 'depending', 'deposit', 'dept', 'deputation', 'derangement', 'description', 'design', 'designation', 'desirable', 'desired', 'destroyed', 'destruct', 'destruction', 'detailed', 'details', 'detect', 'determine', 'developed', 'development', 'deviation', 'deviations', 'different', 'digital', 'digitally', 'ding', 'dire', 'directed', 'directly', 'director', 'directors', 'directorship', 'disappearance', 'disciplinary', 'disclose', 'disclosed', 'disclosure', 'discovery', 'discrepancy', 'discretion', 'discussions', 'dishonest', 'dishonesty', 'disparagement', 'dispute', 'disqualified', 'distress', 'distributed', 'document', 'documentary', 'documents', 'domain', 'done', 'door', 'downloade', 'downloaded', 'dress', 'dscs', 'dues', 'dully', 'duly', 'duration', 'during', 'duties', 'duty', 'eant', 'edure', 'eeds', 'effect', 'effective', 'either', 'elect', 'electrical', 'electroni', 'electronic', 'electronically', 'elevant', 'eligibility', 'eligible', 'elphinstone', 'elsewhere', 'email', 'embassy', 'ement', 'emergency', 'emotional', 'employed', 'employee', 'employees', 'enable', 'enclosed', 'endors', 'endorsement', 'enforceable', 'engage', 'engaged', 'engagement', 'english', 'enroll', 'enrolment', 'enses', 'ensure', 'enter', 'entering', 'entitled', 'entity', 'envelop', 'epli', 'eprocure', 'eptable', 'equipme', 'equipment', 'erasures', 'erence', 'error', 'errors', 'eserve', 'essential', 'essful', 'established', 'establishing', 'estates', 'estimate', 'eted', 'evaluate', 'evaluated', 'evaluation', 'even', 'event', 'events', 'every', 'examined', 'except', 'excess', 'exchanged', 'exclusion', 'exclusive', 'executant', 'execute', 'executed', 'executing', 'execution', 'executive', 'exercise', 'existence', 'existing', 'expens', 'expense', 'expenses', 'expiry', 'explanation', 'explicitly', 'expressly', 'exte', 'extend', 'extended', 'extension', 'extensions', 'extent', 'external', 'extortion', 'extract', 'extradition', 'extraneous', 'facilitate', 'facilities', 'fact', 'facts', 'failure', 'faithfully', 'false', 'favor', 'fcpa', 'fees', 'figures', 'filled', 'final', 'financial', 'finding', 'fine', 'fines', 'fire', 'firm', 'firms', 'first', 'fixture', 'floor', 'following', 'force', 'foregoing', 'forgery', 'form', 'format', 'forth', 'found', 'frame', 'framing', 'fraud', 'frauds', 'fraudster', 'fraudulent', 'free', 'fulfilled', 'full', 'fully', 'furnished', 'furniture', 'further', 'future', 'general', 'generally', 'gital', 'give', 'given', 'gole', 'goods', 'governed', 'governing', 'government', 'govt', 'grameen', 'gramin', 'greater', 'greement', 'group', 'guarantee', 'guidelines', 'gularity', 'hague', 'hammer', 'hand', 'hard', 'hardware', 'have', 'having', 'head', 'health', 'heirs', 'held', 'hereafter', 'hereby', 'hereinafter', 'hereunder', 'high', 'hish', 'historical', 'hold', 'holding', 'holds', 'hour', 'hours', 'house', 'however', 'https', 'hypothecated', 'iability', 'idder', 'ideas', 'idental', 'ifam', 'ification', 'imit', 'immediately', 'impaired', 'improvements', 'inception', 'incl', 'include', 'includes', 'including', 'inclusive', 'inconsistency', 'incorporate', 'incorporated', 'incorporation', 'increased', 'incurred', 'incurs', 'indemni', 'indemnification', 'indemnity', 'independent', 'india', 'indiabulls', 'indian', 'indicated', 'individuals', 'infidelity', 'infliction', 'influence', 'informants', 'information', 'informed', 'infringement', 'initial', 'injury', 'inquiries', 'installati', 'installations', 'institution', 'insufficient', 'insura', 'insurable', 'insurance', 'insurances', 'insure', 'insured', 'insurer', 'intended', 'interest', 'interested', 'interf', 'internet', 'interruption', 'intimation', 'introduction', 'intrusion', 'invalid', 'invasion', 'investigation', 'investigations', 'invitation', 'invited', 'invites', 'invoice', 'involuntary', 'involved', 'involving', 'ippb', 'ippbonline', 'irda', 'irre', 'irrevocably', 'isors', 'issuance', 'issue', 'issued', 'issues', 'itten', 'jective', 'jupiter', 'jurisdiction', 'keep', 'keeping', 'kidnap', 'kind', 'king', 'know', 'knowledge', 'labour', 'lacs', 'laid', 'lakh', 'lakhs', 'language', 'laptops', 'last', 'lated', 'lawful', 'laws', 'lead', 'leaseh', 'leasehold', 'least', 'left', 'legal', 'legalized', 'legislation', 'legitimate', 'lend', 'letter', 'letterhead', 'level', 'levels', 'levies', 'liabilities', 'liability', 'liable', 'libel', 'liberty', 'license', 'licensed', 'licensing', 'licy', 'lifetime', 'light', 'likeness', 'limit', 'limited', 'limiting', 'limits', 'lines', 'linkage', 'linked', 'linking', 'list', 'listed', 'litigation', 'location', 'locations', 'looking', 'looting', 'loss', 'luding', 'made', 'mail', 'main', 'maintained', 'make', 'making', 'managed', 'management', 'manager', 'manner', 'marg', 'mark', 'market', 'marsh', 'master', 'masurekar', 'match', 'material', 'matters', 'maximum', 'means', 'mechanical', 'media', 'meet', 'meeting', 'mental', 'mentioned', 'merchant', 'merit', 'micro', 'mills', 'minimum', 'ministry', 'minor', 'misappropriation', 'misuse', 'mitigate', 'mitigations', 'mobile', 'mobiles', 'mode', 'modificatio', 'modifications', 'modified', 'modify', 'module', 'money', 'monies', 'monitor', 'monitoring', 'monthly', 'months', 'moral', 'more', 'mount', 'moveable', 'movement', 'mpanies', 'multi', 'multimedia', 'mumbai', 'must', 'mysterious', 'name', 'named', 'natural', 'ndia', 'necessary', 'need', 'needs', 'negligence', 'negoti', 'negotiation', 'negotiations', 'neither', 'network', 'networking', 'nguage', 'nominate', 'nominated', 'notarized', 'note', 'noted', 'notes', 'nothing', 'notice', 'notification', 'notified', 'notify', 'nsidered', 'nsion', 'nsured', 'ntly', 'number', 'numbered', 'numbers', 'obligation', 'obligations', 'obliged', 'observe', 'obtained', 'occupational', 'occupied', 'occur', 'occurred', 'occurrence', 'occurs', 'offe', 'offer', 'offered', 'offers', 'offic', 'office', 'officers', 'offices', 'official', 'older', 'ollowing', 'omission', 'omissions', 'ommunication', 'omply', 'online', 'only', 'opened', 'opening', 'operating', 'operational', 'operative', 'opinion', 'opportunities', 'opportunity', 'option', 'oral', 'orally', 'ordance', 'order', 'organisation', 'organization', 'original', 'osal', 'othe', 'other', 'others', 'otherwi', 'otherwise', 'ounts', 'outcome', 'outside', 'outsource', 'outsourced', 'overnight', 'overseas', 'ower', 'owned', 'page', 'pages', 'paid', 'paired', 'panel', 'pansari', 'parameters', 'parent', 'part', 'participate', 'participating', 'participation', 'particulars', 'partner', 'partners', 'parts', 'party', 'password', 'past', 'payment', 'payments', 'penalties', 'pending', 'perating', 'percentage', 'perform', 'performance', 'performed', 'perils', 'perio', 'period', 'permitted', 'person', 'persona', 'personal', 'phone', 'piracy', 'place', 'placed', 'placement', 'placements', 'placing', 'plagiarism', 'please', 'point', 'points', 'poli', 'police', 'policies', 'policy', 'pollution', 'port', 'portal', 'portion', 'position', 'positions', 'possible', 'post', 'postage', 'postal', 'postman', 'postmen', 'potential', 'power', 'powers', 'ppbonline', 'pplication', 'practice', 'precedence', 'premises', 'premium', 'premiums', 'preparation', 'prepare', 'prepared', 'prescribed', 'prese', 'presence', 'present', 'presentations', 'presently', 'presents', 'prevail', 'prevent', 'previously', 'price', 'primar', 'primary', 'principal', 'prior', 'privacy', 'private', 'proc', 'procedure', 'proceeding', 'proceedings', 'process', 'processed', 'processing', 'procure', 'procurement', 'product', 'products', 'professional', 'profile', 'profit', 'projec', 'project', 'proofs', 'prop', 'properly', 'property', 'proposal', 'proposals', 'proposed', 'proposition', 'proprietor', 'prospec', 'prospective', 'provi', 'provid', 'provide', 'provided', 'provider', 'providers', 'provides', 'providing', 'provisions', 'public', 'publicity', 'purch', 'purchase', 'purporting', 'purpose', 'pursuant', 'pygmie', 'qualification', 'qualified', 'quality', 'quantify', 'quarterly', 'queries', 'query', 'questions', 'quired', 'quotation', 'quotations', 'quote', 'quoted', 'quoting', 'ractors', 'ransom', 'ratify', 'reason', 'reasonable', 'reasonably', 'reasons', 'receipt', 'received', 'receives', 'recipients', 'recognized', 'reference', 'referred', 'refers', 'regard', 'regarded', 'regarding', 'regardless', 'regional', 'register', 'registered', 'registration', 'regulation', 'regulator', 'regulatory', 'reject', 'rejected', 'rejection', 'related', 'relating', 'relation', 'relations', 'relevant', 'reliance', 'relied', 'rely', 'relying', 'remain', 'remaining', 'removal', 'rented', 'repair', 'repayment', 'replacement', 'replenishment', 'replication', 'reply', 'report', 'reporting', 'representation', 'representative', 'representatives', 'representing', 'represents', 'reputation', 'reputational', 'reputed', 'request', 'requested', 'requests', 'require', 'required', 'requiremen', 'requirement', 'requirements', 'requiring', 'reserves', 'resolution', 'respect', 'respond', 'respondents', 'response', 'responses', 'responsibility', 'responsible', 'responsive', 'ressly', 'restoration', 'restrictions', 'result', 'resulting', 'retail', 'retaliation', 'retention', 'retired', 'retroactive', 'return', 'revi', 'revise', 'revised', 'revisions', 'reward', 'rewards', 'right', 'rights', 'ring', 'risk', 'risks', 'road', 'robbery', 'roker', 'roles', 'rospective', 'roup', 'rsmd', 'rtal', 'rupees', 'rural', 'safe', 'safety', 'said', 'scam', 'scanned', 'schedule', 'schedules', 'scope', 'scribed', 'scrutinize', 'scrutinized', 'seal', 'sealed', 'sebi', 'section', 'sections', 'sector', 'secured', 'seek', 'select', 'selected', 'selecting', 'selection', 'self', 'senapati', 'send', 'sendings', 'sent', 'separate', 'separately', 'serial', 'series', 'servers', 'servic', 'service', 'services', 'servicing', 'sevaks', 'severability', 'shall', 'shared', 'shareholder', 'sheet', 'shorter', 'shortlist', 'shortlisting', 'shou', 'should', 'sign', 'signatories', 'signatory', 'signature', 'signed', 'signifies', 'signing', 'similar', 'sing', 'singh', 'sion', 'site', 'size', 'slander', 'slogan', 'soft', 'sole', 'solely', 'someone', 'sought', 'special', 'specific', 'specified', 'speed', 'spousal', 'srcc', 'staff', 'stage', 'stamp', 'stamped', 'standard', 'stat', 'state', 'stated', 'statement', 'statements', 'statutes', 'statutory', 'step', 'steps', 'stfi', 'stipul', 'stipulations', 'strategy', 'strictly', 'strongly', 'structure', 'subcont', 'subject', 'submi', 'submis', 'submiss', 'submission', 'submissions', 'submit', 'submitted', 'submitting', 'subsequent', 'subsidiaries', 'substitute', 'successful', 'suggestion', 'summarily', 'summary', 'sumptive', 'super', 'supervise', 'supplement', 'support', 'supporting', 'surrendered', 'survey', 'surveyors', 'surveys', 'suspend', 'suspended', 'suspension', 'suspicious', 'sustained', 'system', 'systems', 'table', 'tablet', 'tablets', 'take', 'taking', 'taxi', 'technical', 'technically', 'telephone', 'temporary', 'tender', 'term', 'terminate', 'termination', 'terms', 'territory', 'terrorism', 'thef', 'theft', 'ther', 'there', 'therefore', 'thereof', 'these', 'things', 'third', 'this', 'thority', 'thought', 'threat', 'threatened', 'three', 'till', 'time', 'timetable', 'timing', 'tion', 'tipulated', 'titl', 'title', 'tive', 'tled', 'together', 'token', 'total', 'totality', 'towards', 'tower', 'trade', 'trademark', 'tral', 'transaction', 'transferable', 'transi', 'transit', 'transmission', 'transport', 'treat', 'treated', 'trends', 'tribunal', 'true', 'tting', 'types', 'ubmitt', 'uding', 'unable', 'unacceptable', 'unauthorized', 'uncompetitive', 'undersigned', 'understand', 'understood', 'undertake', 'undertaking', 'undertakings', 'underwriting', 'unfair', 'unintentional', 'unique', 'unlawful', 'unlawfully', 'unless', 'unnamed', 'unsolicited', 'upload', 'uploaded', 'uploading', 'upon', 'urance', 'urer', 'used', 'useful', 'user', 'username', 'using', 'utory', 'valid', 'validity', 'valuation', 'value', 'vans', 'variation', 'varies', 'various', 'vary', 'vaults', 'veer', 'vehicle', 'vendor', 'vendors', 'verification', 'verified', 'vicarious', 'viii', 'wait', 'waive', 'waived', 'waiver', 'waivers', 'warrant', 'warranties', 'warrants', 'warranty', 'website', 'well', 'whatsoever', 'wheeler', 'where', 'whereof', 'wherever', 'whether', 'whistleblower', 'whole', 'wife', 'withdraw', 'withdrawal', 'within', 'without', 'witness', 'witnesses', 'wning', 'wordings', 'words', 'work', 'works', 'worldwide', 'woul', 'would', 'writing', 'writings', 'written', 'wrong', 'wrongful', 'year', 'years', 'yours', 'yyyy']\n",
      "[[0 0 0 ... 0 0 0]\n",
      " [0 0 0 ... 0 0 0]\n",
      " [0 0 0 ... 0 0 0]\n",
      " ...\n",
      " [0 0 0 ... 0 0 0]\n",
      " [0 0 0 ... 0 0 0]\n",
      " [0 0 0 ... 0 0 0]]\n"
     ]
    }
   ],
   "source": [
    "print('The data type of bow matrix {}'.format(type(cv_matrix)))\n",
    "print('Shape of the matrix {}'.format(cv_matrix.get_shape))\n",
    "print('Size of the matrix is: {}'.format(sys.getsizeof(cv_matrix)))\n",
    "print(cv.get_feature_names())\n",
    "print(cv_matrix.toarray())"
   ]
  },
  {
   "cell_type": "code",
   "execution_count": 519,
   "metadata": {},
   "outputs": [
    {
     "name": "stdout",
     "output_type": "stream",
     "text": [
      "[[0. 0. 0. ... 0. 0. 0.]\n",
      " [0. 0. 0. ... 0. 0. 0.]\n",
      " [0. 0. 0. ... 0. 0. 0.]\n",
      " ...\n",
      " [0. 0. 0. ... 0. 0. 0.]\n",
      " [0. 0. 0. ... 0. 0. 0.]\n",
      " [0. 0. 0. ... 0. 0. 0.]]\n"
     ]
    }
   ],
   "source": [
    "# Tnormalized: document-term matrix normalized (value 0-1) according to the TF-IDF\n",
    "# TF(Term Frequency): the no. of times a term(a word here) appears in the current document(single sentence here)\n",
    "# IDF(Inverse Document Frequency): the no. of times a term(a word here) appears in the entire corpus\n",
    "# Corpus: set of all sentences\n",
    "\n",
    "normal_matrix = TfidfTransformer().fit_transform(cv_matrix)\n",
    "print(normal_matrix.toarray())"
   ]
  },
  {
   "cell_type": "code",
   "execution_count": 520,
   "metadata": {},
   "outputs": [
    {
     "name": "stdout",
     "output_type": "stream",
     "text": [
      "<bound method _cs_matrix.toarray of <1480x292 sparse matrix of type '<class 'numpy.float64'>'\n",
      "\twith 4089 stored elements in Compressed Sparse Column format>>\n"
     ]
    }
   ],
   "source": [
    "print(normal_matrix.T.toarray)\n",
    "res_graph = normal_matrix * normal_matrix.T"
   ]
  },
  {
   "cell_type": "markdown",
   "metadata": {},
   "source": [
    "### 6. TextRank Algorithm"
   ]
  },
  {
   "cell_type": "code",
   "execution_count": 521,
   "metadata": {},
   "outputs": [
    {
     "name": "stderr",
     "output_type": "stream",
     "text": [
      "MatplotlibDeprecationWarning: \n",
      "The iterable function was deprecated in Matplotlib 3.1 and will be removed in 3.3. Use np.iterable instead. [nx_pylab.py:579]\n"
     ]
    },
    {
     "name": "stdout",
     "output_type": "stream",
     "text": [
      "Number of edges 11220\n",
      "Number of vertices 292\n"
     ]
    },
    {
     "data": {
      "image/png": "[encoded data removed]",
      "text/plain": [
       "<Figure size 432x288 with 1 Axes>"
      ]
     },
     "metadata": {},
     "output_type": "display_data"
    },
    {
     "name": "stdout",
     "output_type": "stream",
     "text": [
      "The memory used by the graph in Bytes is: 56\n"
     ]
    }
   ],
   "source": [
    "# drawing a graph to proceed for the textrank algorithm\n",
    "# nx_graph is a graph developed using the networkx library\n",
    "# each node represents a sentence\n",
    "# an edge represents that they have words in common\n",
    "# the edge weight is the number of words that are common in both of the sentences(nodes)\n",
    "# nx.draw() method is used to draw the graph created\n",
    "\n",
    "nx_graph = nx.from_scipy_sparse_matrix(res_graph)\n",
    "nx.draw_circular(nx_graph)\n",
    "print('Number of edges {}'.format(nx_graph.number_of_edges()))\n",
    "print('Number of vertices {}'.format(nx_graph.number_of_nodes()))\n",
    "plt.show()\n",
    "print('The memory used by the graph in Bytes is: {}'.format(sys.getsizeof(nx_graph)))"
   ]
  },
  {
   "cell_type": "code",
   "execution_count": 522,
   "metadata": {},
   "outputs": [
    {
     "name": "stdout",
     "output_type": "stream",
     "text": [
      "<class 'dict'>\n",
      "The size used by the dictionary in Bytes is: 9320\n",
      "0 0.005578169771396853\n",
      "1 0.002557105780091448\n",
      "2 0.005352724314026352\n",
      "3 0.0027048645223947624\n",
      "4 0.0037986787417160525\n",
      "5 0.003904490083385877\n",
      "6 0.002494019928508782\n",
      "7 0.0017377413874040926\n",
      "8 0.0032074078585330374\n",
      "9 0.004559773115041601\n",
      "10 0.005217409370965713\n",
      "11 0.0044328441463183\n",
      "12 0.004559773115041601\n",
      "13 0.005545889662978221\n",
      "14 0.002959294936899654\n",
      "15 0.005455929880811951\n",
      "16 0.0029240933859165617\n",
      "17 0.0031998123702229177\n",
      "18 0.003762309156600641\n",
      "19 0.0027196506208346273\n",
      "20 0.0024703323050109193\n",
      "21 0.003850446376257129\n",
      "22 0.002191959436394632\n",
      "23 0.004006240827100249\n",
      "24 0.004154527612246742\n",
      "25 0.0038061456659480505\n",
      "26 0.004137854370380604\n",
      "27 0.0028978351850901755\n",
      "28 0.004103305728989188\n",
      "29 0.0031139223665368554\n",
      "30 0.004290122371878404\n",
      "31 0.004005398774752413\n",
      "32 0.0041145428641479595\n",
      "33 0.003124267844567309\n",
      "34 0.0023679125110067367\n",
      "35 0.002583062016207192\n",
      "36 0.004411173688164701\n",
      "37 0.0026632089393610198\n",
      "38 0.0036764697715940074\n",
      "39 0.0021353265998549087\n",
      "40 0.0039038001958232684\n",
      "41 0.003277772080434108\n",
      "42 0.005080771834628055\n",
      "43 0.003365617807608211\n",
      "44 0.00402071288968854\n",
      "45 0.005841134939334485\n",
      "46 0.005310346061932819\n",
      "47 0.0035579443741911958\n",
      "48 0.0025135061904414816\n",
      "49 0.0026317185533764895\n",
      "50 0.0034407107575833065\n",
      "51 0.0037271398243225256\n",
      "52 0.004162049942518147\n",
      "53 0.0035124640591951144\n",
      "54 0.003290186178148449\n",
      "55 0.002314134839570812\n",
      "56 0.004387883935524719\n",
      "57 0.003464553300852456\n",
      "58 0.0024129712255307302\n",
      "59 0.00423456743825724\n",
      "60 0.003044311444555222\n",
      "61 0.002030837978409299\n",
      "62 0.0032565215241154707\n",
      "63 0.0026937835371759577\n",
      "64 0.003267334721559874\n",
      "65 0.0030700010497789797\n",
      "66 0.0024909556764082996\n",
      "67 0.002959380732577587\n",
      "68 0.002322663182390463\n",
      "69 0.0029952407979429775\n",
      "70 0.0029969056562378395\n",
      "71 0.001752874615972729\n",
      "72 0.002476405274982496\n",
      "73 0.0017681814124896945\n",
      "74 0.0030849239465909387\n",
      "75 0.0016883866166585474\n",
      "76 0.003307499511957357\n",
      "77 0.005121206149399402\n",
      "78 0.0019721883068179675\n",
      "79 0.0046785894180396415\n",
      "80 0.003492281042178038\n",
      "81 0.0028117622985124706\n",
      "82 0.00406142326493816\n",
      "83 0.002753419994405785\n",
      "84 0.002114103522675822\n",
      "85 0.003628874037222904\n",
      "86 0.0022990886725352726\n",
      "87 0.004747860287987205\n",
      "88 0.004698538030817644\n",
      "89 0.0029830139663297684\n",
      "90 0.0044303864570302606\n",
      "91 0.0038817338134493227\n",
      "92 0.006057821230896919\n",
      "93 0.0025454049318781834\n",
      "94 0.004985051600593265\n",
      "95 0.00212924444727576\n",
      "96 0.004398615462523687\n",
      "97 0.004485467017005662\n",
      "98 0.0030427456680705237\n",
      "99 0.0030075410313007266\n",
      "100 0.0030665491684245968\n",
      "101 0.0017651537266037\n",
      "102 0.004072265246587964\n",
      "103 0.003395897984827743\n",
      "104 0.004206914454641081\n",
      "105 0.0035846515081297994\n",
      "106 0.003847160073066792\n",
      "107 0.004831989239544868\n",
      "108 0.0016974656300631473\n",
      "109 0.004754117200454111\n",
      "110 0.004554779247988522\n",
      "111 0.0033109767481246093\n",
      "112 0.005033951088721248\n",
      "113 0.001781936287068876\n",
      "114 0.0021292492493496656\n",
      "115 0.0017572449427721874\n",
      "116 0.002489826016231839\n",
      "117 0.00300035512190394\n",
      "118 0.0022912581338074903\n",
      "119 0.003877855901183046\n",
      "120 0.002553369255512695\n",
      "121 0.0033918395312282144\n",
      "122 0.0037519762115302106\n",
      "123 0.002711626599233414\n",
      "124 0.0016980672391661178\n",
      "125 0.001748113465503345\n",
      "126 0.001960111522227921\n",
      "127 0.0032419136552264555\n",
      "128 0.004521392532287097\n",
      "129 0.004496787605771722\n",
      "130 0.0030868349238311285\n",
      "131 0.00646382184648546\n",
      "132 0.004151219400850269\n",
      "133 0.0033830680368652313\n",
      "134 0.004241045478176331\n",
      "135 0.003561006639379563\n",
      "136 0.0038310287385035255\n",
      "137 0.0048390340219850525\n",
      "138 0.0025740421014232334\n",
      "139 0.00342778585186108\n",
      "140 0.0035827353870511785\n",
      "141 0.0035498765315089323\n",
      "142 0.0046164353638711055\n",
      "143 0.003863747735312279\n",
      "144 0.0023816231745491913\n",
      "145 0.005087846098196237\n",
      "146 0.0026320328648391815\n",
      "147 0.004400188899163709\n",
      "148 0.00238275148423884\n",
      "149 0.0034651372640738974\n",
      "150 0.0027066088628740353\n",
      "151 0.003654541104011134\n",
      "152 0.0038022448293354573\n",
      "153 0.002027586035173701\n",
      "154 0.002092010285054198\n",
      "155 0.004271811288485202\n",
      "156 0.004682436777117812\n",
      "157 0.003518408852008867\n",
      "158 0.003324990449291595\n",
      "159 0.0036625445180563944\n",
      "160 0.0019810057569212875\n",
      "161 0.0026255589537246575\n",
      "162 0.002431395891393685\n",
      "163 0.0033680778313903157\n",
      "164 0.004964500510915298\n",
      "165 0.003028219305134059\n",
      "166 0.0025073101239121926\n",
      "167 0.0030356328698630296\n",
      "168 0.001737223991597121\n",
      "169 0.002080687372729089\n",
      "170 0.002751747038043082\n",
      "171 0.004777546880485355\n",
      "172 0.0030493096600199086\n",
      "173 0.0028349168471546067\n",
      "174 0.0023624987518635473\n",
      "175 0.002589166058892535\n",
      "176 0.004236305239240942\n",
      "177 0.0032501774744261667\n",
      "178 0.0027546468135163306\n",
      "179 0.0025220865710874956\n",
      "180 0.0037690809616407125\n",
      "181 0.004326670238853709\n",
      "182 0.0037246162423717377\n",
      "183 0.0034368721751751583\n",
      "184 0.0030291039038049914\n",
      "185 0.0029730709853494817\n",
      "186 0.0018404397778948108\n",
      "187 0.004569817805074375\n",
      "188 0.003952257570083655\n",
      "189 0.002804021359962404\n",
      "190 0.0033439607878779096\n",
      "191 0.001841409589162202\n",
      "192 0.0032846191399200845\n",
      "193 0.0025719646652693044\n",
      "194 0.0021049330878070423\n",
      "195 0.003659626944147894\n",
      "196 0.002815354188900049\n",
      "197 0.0017853172085240355\n",
      "198 0.002592961970586697\n",
      "199 0.002995740552709707\n",
      "200 0.003235774452832139\n",
      "201 0.004252524904385496\n",
      "202 0.0035966410388516674\n",
      "203 0.004251271316266076\n",
      "204 0.0024161835426217354\n",
      "205 0.006567956717065021\n",
      "206 0.004559997772882475\n",
      "207 0.004816901986031579\n",
      "208 0.0031163169628367522\n",
      "209 0.002353133445096192\n",
      "210 0.00198133718098578\n",
      "211 0.002914267804030005\n",
      "212 0.0038715268651241313\n",
      "213 0.004358263964877146\n",
      "214 0.002828080894594664\n",
      "215 0.0025830565086688725\n",
      "216 0.004290202803717625\n",
      "217 0.006177588423507367\n",
      "218 0.004151501950871314\n",
      "219 0.004720777004949887\n",
      "220 0.0031163169628367522\n",
      "221 0.0030868686833922174\n",
      "222 0.0017922120826008932\n",
      "223 0.0036965629708788357\n",
      "224 0.004233199608994271\n",
      "225 0.0034446927624793818\n",
      "226 0.0070007258535158086\n",
      "227 0.004559997772882475\n",
      "228 0.0034342014080726278\n",
      "229 0.004029584765414083\n",
      "230 0.003617083320382145\n",
      "231 0.0019811515353841537\n",
      "232 0.003499144873334673\n",
      "233 0.0025929092083861274\n",
      "234 0.0022955912478496354\n",
      "235 0.0016386378679432813\n",
      "236 0.0037654736294884337\n",
      "237 0.0032557990440630403\n",
      "238 0.003673807848159812\n",
      "239 0.0034706157192499155\n",
      "240 0.006527505659578402\n",
      "241 0.004559997772882475\n",
      "242 0.004556012243561471\n",
      "243 0.002491797886075039\n",
      "244 0.0026078990864626195\n",
      "245 0.0026812983540062374\n",
      "246 0.0022853618449038124\n",
      "247 0.00465192449222088\n",
      "248 0.005191971570133472\n",
      "249 0.0025886604856935847\n",
      "250 0.0039018758109147624\n",
      "251 0.0032047578254636275\n",
      "252 0.0059956914691396135\n",
      "253 0.006832882589729709\n",
      "254 0.006129373250144759\n",
      "255 0.0023778211505652534\n",
      "256 0.0023700152785270903\n",
      "257 0.003680394244794055\n",
      "258 0.004162049942518148\n",
      "259 0.0038872281696073836\n",
      "260 0.004558902914054174\n",
      "261 0.004716510902064088\n",
      "262 0.0005151983513652757\n",
      "263 0.0021015788246952776\n",
      "264 0.0029005068386823694\n",
      "265 0.002645772241155462\n",
      "266 0.002213799577480349\n",
      "267 0.0024781362030188037\n",
      "268 0.007395879223754103\n",
      "269 0.004177266799154326\n",
      "270 0.003116335147371681\n",
      "271 0.004425546881610132\n",
      "272 0.0025529020208038466\n",
      "273 0.00202587604687656\n",
      "274 0.0031555974267353315\n",
      "275 0.004570792251049866\n",
      "276 0.0039630770140172454\n",
      "277 0.002836958559390866\n",
      "278 0.005119781705427414\n",
      "279 0.004716510902064088\n",
      "280 0.002236979544233452\n",
      "281 0.002066435378682766\n",
      "282 0.0018292070137063152\n",
      "283 0.0017404070721865744\n",
      "284 0.0027154924512693564\n",
      "285 0.0026898638140413315\n",
      "286 0.00366581340113459\n",
      "287 0.0021298902316733586\n",
      "288 0.0026729145922963138\n",
      "289 0.0031989586821512357\n",
      "290 0.0022493802537809277\n",
      "291 0.002847641208234035\n"
     ]
    }
   ],
   "source": [
    "# ranks is a dictionary with key=node(sentences) and value=textrank (the rank of each of the sentences)\n",
    "ranks = nx.pagerank(nx_graph)\n",
    "\n",
    "# analyse the data type of ranks\n",
    "print(type(ranks))\n",
    "print('The size used by the dictionary in Bytes is: {}'.format(sys.getsizeof(ranks)))\n",
    "\n",
    "# print the dictionary\n",
    "for i in ranks:\n",
    "    print(i, ranks[i])"
   ]
  },
  {
   "cell_type": "markdown",
   "metadata": {},
   "source": [
    "### 7. Finding important sentences and generating summary"
   ]
  },
  {
   "cell_type": "code",
   "execution_count": 523,
   "metadata": {},
   "outputs": [],
   "source": [
    "df['Ranks'] = ranks\n",
    "df = df.sort_values(by = 'Ranks',ascending = False)"
   ]
  },
  {
   "cell_type": "markdown",
   "metadata": {},
   "source": [
    "##### Creating Normalized Rank"
   ]
  },
  {
   "cell_type": "code",
   "execution_count": 524,
   "metadata": {},
   "outputs": [],
   "source": [
    "df['Normalized_Rank'] =(df['Ranks']-df['Ranks'].min())/(df['Ranks'].max()-df['Ranks'].min())"
   ]
  },
  {
   "cell_type": "code",
   "execution_count": 533,
   "metadata": {},
   "outputs": [],
   "source": [
    "df_final = df[df['No_of_Words'] < max_num_words]\n",
    "df_final = df_final[df_final['No_of_Words'] > min_num_words]"
   ]
  },
  {
   "cell_type": "code",
   "execution_count": 526,
   "metadata": {},
   "outputs": [
    {
     "data": {
      "text/plain": [
       "0.8500000000000002"
      ]
     },
     "execution_count": 526,
     "metadata": {},
     "output_type": "execute_result"
    }
   ],
   "source": [
    "# any sentence with the normalized score 0.2 more than the mean value is considered to be \n",
    "threshold = df['Normalized_Rank'].mean() + 0.35\n",
    "threshold"
   ]
  },
  {
   "cell_type": "code",
   "execution_count": 527,
   "metadata": {},
   "outputs": [
    {
     "data": {
      "text/html": [
       "<div>\n",
       "<style scoped>\n",
       "    .dataframe tbody tr th:only-of-type {\n",
       "        vertical-align: middle;\n",
       "    }\n",
       "\n",
       "    .dataframe tbody tr th {\n",
       "        vertical-align: top;\n",
       "    }\n",
       "\n",
       "    .dataframe thead th {\n",
       "        text-align: right;\n",
       "    }\n",
       "</style>\n",
       "<table border=\"1\" class=\"dataframe\">\n",
       "  <thead>\n",
       "    <tr style=\"text-align: right;\">\n",
       "      <th></th>\n",
       "      <th>Sentence</th>\n",
       "      <th>tidy_sentence</th>\n",
       "      <th>No_of_Words</th>\n",
       "      <th>Ranks</th>\n",
       "      <th>Normalized_Rank</th>\n",
       "    </tr>\n",
       "  </thead>\n",
       "  <tbody>\n",
       "    <tr>\n",
       "      <td>430</td>\n",
       "      <td>Premiums quoted above should be valid for a p...</td>\n",
       "      <td>Premiums quoted valid period year inclusive ti...</td>\n",
       "      <td>24</td>\n",
       "      <td>291</td>\n",
       "      <td>1.000000</td>\n",
       "    </tr>\n",
       "    <tr>\n",
       "      <td>428</td>\n",
       "      <td>However the Power of Attorney provided by Appl...</td>\n",
       "      <td>However Power Attorney provided Applicants cou...</td>\n",
       "      <td>35</td>\n",
       "      <td>290</td>\n",
       "      <td>0.996564</td>\n",
       "    </tr>\n",
       "    <tr>\n",
       "      <td>425</td>\n",
       "      <td>IN WITNESS WHEREOF WE THE ABOVE NAMED PRINCIPA...</td>\n",
       "      <td>WITNESS WHEREOF ABOVE NAMED PRINCIPAL HAVE EXE...</td>\n",
       "      <td>29</td>\n",
       "      <td>288</td>\n",
       "      <td>0.989691</td>\n",
       "    </tr>\n",
       "    <tr>\n",
       "      <td>424</td>\n",
       "      <td>AND we hereby agree to ratify and confirm and ...</td>\n",
       "      <td>hereby agree ratify confirm hereby ratify conf...</td>\n",
       "      <td>76</td>\n",
       "      <td>287</td>\n",
       "      <td>0.986254</td>\n",
       "    </tr>\n",
       "    <tr>\n",
       "      <td>421</td>\n",
       "      <td>We hereby undertake and confirm that we have ...</td>\n",
       "      <td>hereby undertake confirm understood scope work...</td>\n",
       "      <td>24</td>\n",
       "      <td>284</td>\n",
       "      <td>0.975945</td>\n",
       "    </tr>\n",
       "    <tr>\n",
       "      <td>420</td>\n",
       "      <td>We certify that neither our firm nor any of t...</td>\n",
       "      <td>certify neither firm partners directors involv...</td>\n",
       "      <td>27</td>\n",
       "      <td>283</td>\n",
       "      <td>0.972509</td>\n",
       "    </tr>\n",
       "    <tr>\n",
       "      <td>416</td>\n",
       "      <td>Dear Sir I on behalf of T here is no case with...</td>\n",
       "      <td>Dear behalf case Police Court IRDA SEBI Regula...</td>\n",
       "      <td>28</td>\n",
       "      <td>280</td>\n",
       "      <td>0.962199</td>\n",
       "    </tr>\n",
       "    <tr>\n",
       "      <td>414</td>\n",
       "      <td>Page # Point Section # Query Banks Response Da...</td>\n",
       "      <td>Page Point Section Query Banks Response Date A...</td>\n",
       "      <td>23</td>\n",
       "      <td>278</td>\n",
       "      <td>0.955326</td>\n",
       "    </tr>\n",
       "    <tr>\n",
       "      <td>412</td>\n",
       "      <td>Page # Point Section # Clarification point as ...</td>\n",
       "      <td>Page Point Section Clarification point stated ...</td>\n",
       "      <td>24</td>\n",
       "      <td>277</td>\n",
       "      <td>0.951890</td>\n",
       "    </tr>\n",
       "    <tr>\n",
       "      <td>410</td>\n",
       "      <td>Date Authorized Signatory Annexure V Comments ...</td>\n",
       "      <td>Date Authorized Signatory Annexure Comments Te...</td>\n",
       "      <td>32</td>\n",
       "      <td>276</td>\n",
       "      <td>0.948454</td>\n",
       "    </tr>\n",
       "    <tr>\n",
       "      <td>409</td>\n",
       "      <td>We also understand that the bank has the exclu...</td>\n",
       "      <td>also understand bank exclusive right reject ca...</td>\n",
       "      <td>37</td>\n",
       "      <td>275</td>\n",
       "      <td>0.945017</td>\n",
       "    </tr>\n",
       "    <tr>\n",
       "      <td>406</td>\n",
       "      <td>We undertake that in competing for and i f the...</td>\n",
       "      <td>undertake competing work allocated executing s...</td>\n",
       "      <td>41</td>\n",
       "      <td>273</td>\n",
       "      <td>0.938144</td>\n",
       "    </tr>\n",
       "    <tr>\n",
       "      <td>402</td>\n",
       "      <td>We agree to abide by this Scope Offer for days...</td>\n",
       "      <td>agree abide Scope Offer days last date submiss...</td>\n",
       "      <td>41</td>\n",
       "      <td>271</td>\n",
       "      <td>0.931271</td>\n",
       "    </tr>\n",
       "    <tr>\n",
       "      <td>398</td>\n",
       "      <td>Having examined the insurance requiremen t and...</td>\n",
       "      <td>Having examined insurance requiremen Scope Doc...</td>\n",
       "      <td>51</td>\n",
       "      <td>269</td>\n",
       "      <td>0.924399</td>\n",
       "    </tr>\n",
       "    <tr>\n",
       "      <td>396</td>\n",
       "      <td>Authorised Signatory Designation Annexure I V ...</td>\n",
       "      <td>Authorised Signatory Designation Annexure Bidd...</td>\n",
       "      <td>33</td>\n",
       "      <td>268</td>\n",
       "      <td>0.920962</td>\n",
       "    </tr>\n",
       "    <tr>\n",
       "      <td>395</td>\n",
       "      <td>v W e have verified the details indicated abo...</td>\n",
       "      <td>verified details indicated also confirm Inform...</td>\n",
       "      <td>27</td>\n",
       "      <td>267</td>\n",
       "      <td>0.917526</td>\n",
       "    </tr>\n",
       "    <tr>\n",
       "      <td>372</td>\n",
       "      <td>D e c l a r a t i o n I h e r e b y d e c l a ...</td>\n",
       "      <td></td>\n",
       "      <td>35</td>\n",
       "      <td>262</td>\n",
       "      <td>0.900344</td>\n",
       "    </tr>\n",
       "    <tr>\n",
       "      <td>370</td>\n",
       "      <td>Self Declaration The Applicant should not have...</td>\n",
       "      <td>Self Declaration Applicant blacklisted barred ...</td>\n",
       "      <td>36</td>\n",
       "      <td>260</td>\n",
       "      <td>0.893471</td>\n",
       "    </tr>\n",
       "    <tr>\n",
       "      <td>369</td>\n",
       "      <td>If an insurer is quoting for Bankers Indemnit...</td>\n",
       "      <td>insurer quoting Bankers Indemnity policy must ...</td>\n",
       "      <td>26</td>\n",
       "      <td>259</td>\n",
       "      <td>0.890034</td>\n",
       "    </tr>\n",
       "    <tr>\n",
       "      <td>367</td>\n",
       "      <td>The General Insurance Company should have bee...</td>\n",
       "      <td>General Insurance Company underwriting policy ...</td>\n",
       "      <td>24</td>\n",
       "      <td>258</td>\n",
       "      <td>0.886598</td>\n",
       "    </tr>\n",
       "    <tr>\n",
       "      <td>365</td>\n",
       "      <td>Criteri a Documents to be submitted Eligibilit...</td>\n",
       "      <td>Criteri Documents submitted Eligibility establ...</td>\n",
       "      <td>28</td>\n",
       "      <td>257</td>\n",
       "      <td>0.883162</td>\n",
       "    </tr>\n",
       "    <tr>\n",
       "      <td>363</td>\n",
       "      <td>The bank is not bound by any other extraneous ...</td>\n",
       "      <td>bank bound extraneous matters deviations even ...</td>\n",
       "      <td>43</td>\n",
       "      <td>255</td>\n",
       "      <td>0.876289</td>\n",
       "    </tr>\n",
       "    <tr>\n",
       "      <td>361</td>\n",
       "      <td>Sir Sub Response to the India Post Payments Ba...</td>\n",
       "      <td>Response India Post Payments Bank selection In...</td>\n",
       "      <td>21</td>\n",
       "      <td>253</td>\n",
       "      <td>0.869416</td>\n",
       "    </tr>\n",
       "    <tr>\n",
       "      <td>360</td>\n",
       "      <td>Annexure Annexure I Conformity Letter Manager ...</td>\n",
       "      <td>Annexure Annexure Conformity Letter Manager In...</td>\n",
       "      <td>28</td>\n",
       "      <td>252</td>\n",
       "      <td>0.865979</td>\n",
       "    </tr>\n",
       "    <tr>\n",
       "      <td>355</td>\n",
       "      <td>Sum Insured All Risk Insurance Laptops Mobiles...</td>\n",
       "      <td>Insured Risk Insurance Laptops Mobiles Cell Ph...</td>\n",
       "      <td>85</td>\n",
       "      <td>248</td>\n",
       "      <td>0.852234</td>\n",
       "    </tr>\n",
       "  </tbody>\n",
       "</table>\n",
       "</div>"
      ],
      "text/plain": [
       "                                              Sentence  \\\n",
       "430   Premiums quoted above should be valid for a p...   \n",
       "428  However the Power of Attorney provided by Appl...   \n",
       "425  IN WITNESS WHEREOF WE THE ABOVE NAMED PRINCIPA...   \n",
       "424  AND we hereby agree to ratify and confirm and ...   \n",
       "421   We hereby undertake and confirm that we have ...   \n",
       "420   We certify that neither our firm nor any of t...   \n",
       "416  Dear Sir I on behalf of T here is no case with...   \n",
       "414  Page # Point Section # Query Banks Response Da...   \n",
       "412  Page # Point Section # Clarification point as ...   \n",
       "410  Date Authorized Signatory Annexure V Comments ...   \n",
       "409  We also understand that the bank has the exclu...   \n",
       "406  We undertake that in competing for and i f the...   \n",
       "402  We agree to abide by this Scope Offer for days...   \n",
       "398  Having examined the insurance requiremen t and...   \n",
       "396  Authorised Signatory Designation Annexure I V ...   \n",
       "395   v W e have verified the details indicated abo...   \n",
       "372  D e c l a r a t i o n I h e r e b y d e c l a ...   \n",
       "370  Self Declaration The Applicant should not have...   \n",
       "369   If an insurer is quoting for Bankers Indemnit...   \n",
       "367   The General Insurance Company should have bee...   \n",
       "365  Criteri a Documents to be submitted Eligibilit...   \n",
       "363  The bank is not bound by any other extraneous ...   \n",
       "361  Sir Sub Response to the India Post Payments Ba...   \n",
       "360  Annexure Annexure I Conformity Letter Manager ...   \n",
       "355  Sum Insured All Risk Insurance Laptops Mobiles...   \n",
       "\n",
       "                                         tidy_sentence  No_of_Words  Ranks  \\\n",
       "430  Premiums quoted valid period year inclusive ti...           24    291   \n",
       "428  However Power Attorney provided Applicants cou...           35    290   \n",
       "425  WITNESS WHEREOF ABOVE NAMED PRINCIPAL HAVE EXE...           29    288   \n",
       "424  hereby agree ratify confirm hereby ratify conf...           76    287   \n",
       "421  hereby undertake confirm understood scope work...           24    284   \n",
       "420  certify neither firm partners directors involv...           27    283   \n",
       "416  Dear behalf case Police Court IRDA SEBI Regula...           28    280   \n",
       "414  Page Point Section Query Banks Response Date A...           23    278   \n",
       "412  Page Point Section Clarification point stated ...           24    277   \n",
       "410  Date Authorized Signatory Annexure Comments Te...           32    276   \n",
       "409  also understand bank exclusive right reject ca...           37    275   \n",
       "406  undertake competing work allocated executing s...           41    273   \n",
       "402  agree abide Scope Offer days last date submiss...           41    271   \n",
       "398  Having examined insurance requiremen Scope Doc...           51    269   \n",
       "396  Authorised Signatory Designation Annexure Bidd...           33    268   \n",
       "395  verified details indicated also confirm Inform...           27    267   \n",
       "372                                                              35    262   \n",
       "370  Self Declaration Applicant blacklisted barred ...           36    260   \n",
       "369  insurer quoting Bankers Indemnity policy must ...           26    259   \n",
       "367  General Insurance Company underwriting policy ...           24    258   \n",
       "365  Criteri Documents submitted Eligibility establ...           28    257   \n",
       "363  bank bound extraneous matters deviations even ...           43    255   \n",
       "361  Response India Post Payments Bank selection In...           21    253   \n",
       "360  Annexure Annexure Conformity Letter Manager In...           28    252   \n",
       "355  Insured Risk Insurance Laptops Mobiles Cell Ph...           85    248   \n",
       "\n",
       "     Normalized_Rank  \n",
       "430         1.000000  \n",
       "428         0.996564  \n",
       "425         0.989691  \n",
       "424         0.986254  \n",
       "421         0.975945  \n",
       "420         0.972509  \n",
       "416         0.962199  \n",
       "414         0.955326  \n",
       "412         0.951890  \n",
       "410         0.948454  \n",
       "409         0.945017  \n",
       "406         0.938144  \n",
       "402         0.931271  \n",
       "398         0.924399  \n",
       "396         0.920962  \n",
       "395         0.917526  \n",
       "372         0.900344  \n",
       "370         0.893471  \n",
       "369         0.890034  \n",
       "367         0.886598  \n",
       "365         0.883162  \n",
       "363         0.876289  \n",
       "361         0.869416  \n",
       "360         0.865979  \n",
       "355         0.852234  "
      ]
     },
     "execution_count": 527,
     "metadata": {},
     "output_type": "execute_result"
    }
   ],
   "source": [
    "df_final = df_final[df_final['Normalized_Rank'] > threshold]\n",
    "df_final"
   ]
  },
  {
   "cell_type": "code",
   "execution_count": 528,
   "metadata": {},
   "outputs": [],
   "source": [
    "summary = df_final['Sentence']"
   ]
  },
  {
   "cell_type": "code",
   "execution_count": 530,
   "metadata": {},
   "outputs": [],
   "source": [
    "summ = ''\n",
    "for i in summary:\n",
    "    summ = summ + str(i)+\". \"\n"
   ]
  },
  {
   "cell_type": "code",
   "execution_count": 531,
   "metadata": {},
   "outputs": [
    {
     "data": {
      "text/plain": [
       "' Premiums quoted above should be valid for a period of year and inclusive of s tipulated IRDA I brokerage on insurance policies . However the Power of Attorney provided by Applicants from countries that have signed the Hague Legislation Convention are not required to be legalized by the Indian Embassy if it carries a conforming Appostille certificate . IN WITNESS WHEREOF WE THE ABOVE NAMED PRINCIPAL HAVE EXECUTED THIS POWER OF ATTORNEY ON Y OF For Authorized Signature Authorized Signatory Name Title of Signatory Address Witnesses . AND we hereby agree to ratify and confirm and do hereby ratify and confirm all acts deeds and things done or caused to be done by our said Attorney pursuant to and in exercise of the powers conferred by this Power of Attorney and that all acts d eeds and things done by our said Attorney in exercise of the powers hereby conferred shall and shall always be deemed to have been done by us .  We hereby undertake and confirm that we have understood the scope of work properly and shall comply with the terms of engagement .  We certify that neither our firm nor any of the partners directors is involved in any scam or disciplinary proceedings set tled or pending adjudication . Dear Sir I on behalf of T here is no case with the Police Court IRDA SEBI Regulatory authorities against the proprietor firm partner company Directors employee . Page # Point Section # Query Banks Response Date Authorised Signatory Stamp Annexure V II Self Declaration India Post Payments Bank Ltd . Page # Point Section # Clarification point as stated in t he tender document Comment Suggestion Deviation Annexure VI Query Format Queries Sr . Date Authorized Signatory Annexure V Comments on Terms and Conditions Services and Facilities C o m m e n t s o n t h e Date Authorised Signatory Stamp Sr . We also understand that the bank has the exclusive right to reject this bid in case the bank is of the opinion that the required information is not provided or is provided in a different format . We undertake that in competing for and i f the work is allocated to us in executing the subject Contract we will strictly observe the laws against fraud and corruption in force in and other relevant statutes in this regard . We agree to abide by this Scope Offer for days from last date of submission of bid and our Offer shall remain binding on us and ma y be accepted by the bank any time before expiry of the offer . Having examined the insurance requiremen t and Scope Documents including all Annexures the receipt of which is hereby duly acknowledged we the undersigned offer to provide our services for the policies Request for Proposal other schedules of requirements and services for your bank in conformity with the said Scope Documents . Authorised Signatory Designation Annexure I V Bidder Response Cover Letter Date Manager India Post Payments Bank Corporate Office nd Floor Speed Post Centre Building Bhai Veer Singh Marg Gole Market New Delhi .  v W e have verified the details indicated above and also confirm that all the Information submitted is true to the best of my knowledge . D e c l a r a t i o n I h e r e b y d e c l a r e t h a t I h a S No . Self Declaration The Applicant should not have been blacklisted barred disqualified by any regulator stat utory body in the past years Self Declaration Annexure II I Bidder Details To Manager India Post Payments Bank Ltd .  If an insurer is quoting for Bankers Indemnity policy they must have been underwriting Bankers indemni ty policy for at least last three years .  The General Insurance Company should have been underwriting the policy for period of three years for which they are submitting their quotation . Criteri a Documents to be submitted Eligibility W ell established and reputed General Insurance Firms Companies which are Registered Issued License by Insurance Regulatory and Development Authority . The bank is not bound by any other extraneous matters or deviations even if mentioned by us elsewhere either in our proposal or any subsequent deviations sought by us whether orally or in writing deviations will be final and binding on us . Sir Sub Response to the India Post Payments Bank for selection of Insurance provider for India Post Payments Bank Limited . Annexure Annexure I Conformity Letter Manager India Post Payments Bank Corporate Office nd Floor Speed Post Centre Building Bhai Veer Sing h Marg Gole Market New Delhi . Sum Insured All Risk Insurance Laptops Mobiles Cell Phone POS Transaction Processing Equipment I Pad Tablet PC and all other moveable electronic equipme Asset Register INR Total INR Other Terms Conditions Applicable to all policies Insurance company would also be required to enter into a Service level agreement with IPPB which woul d capture the following conditions Pre agreed panel of surveyors Time lines for surveys survey report submission to be mentioned Specific policy wordings which will be shared during the pre bid meeting . '"
      ]
     },
     "execution_count": 531,
     "metadata": {},
     "output_type": "execute_result"
    }
   ],
   "source": [
    "summ"
   ]
  },
  {
   "cell_type": "code",
   "execution_count": 532,
   "metadata": {},
   "outputs": [],
   "source": [
    "text_file = open(\"RFP_One_summary.txt\", \"wt\")\n",
    "n = text_file.write(str(summ))\n",
    "text_file.close()"
   ]
  },
  {
   "cell_type": "code",
   "execution_count": null,
   "metadata": {},
   "outputs": [],
   "source": []
  }
 ],
 "metadata": {
  "kernelspec": {
   "display_name": "Python 3",
   "language": "python",
   "name": "python3"
  },
  "language_info": {
   "codemirror_mode": {
    "name": "ipython",
    "version": 3
   },
   "file_extension": ".py",
   "mimetype": "text/x-python",
   "name": "python",
   "nbconvert_exporter": "python",
   "pygments_lexer": "ipython3",
   "version": "3.7.4"
  }
 },
 "nbformat": 4,
 "nbformat_minor": 2
}
